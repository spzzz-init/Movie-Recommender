{
 "cells": [
  {
   "cell_type": "code",
   "execution_count": 1,
   "id": "cdc0ea0d-2f76-4f00-9a97-110e5cc61fc9",
   "metadata": {},
   "outputs": [],
   "source": [
    "import numpy as np\n",
    "import pandas as pd"
   ]
  },
  {
   "cell_type": "code",
   "execution_count": 2,
   "id": "97d65ea7-f491-4517-9d4d-fb2739422c49",
   "metadata": {},
   "outputs": [],
   "source": [
    "movies = pd.read_csv('tmdb_5000_movies.csv')\n",
    "credits = pd.read_csv('tmdb_5000_credits.csv')"
   ]
  },
  {
   "cell_type": "code",
   "execution_count": 3,
   "id": "0b5fa398-9a86-4a63-a0bb-cc3e01cbc321",
   "metadata": {},
   "outputs": [
    {
     "data": {
      "text/html": [
       "<div>\n",
       "<style scoped>\n",
       "    .dataframe tbody tr th:only-of-type {\n",
       "        vertical-align: middle;\n",
       "    }\n",
       "\n",
       "    .dataframe tbody tr th {\n",
       "        vertical-align: top;\n",
       "    }\n",
       "\n",
       "    .dataframe thead th {\n",
       "        text-align: right;\n",
       "    }\n",
       "</style>\n",
       "<table border=\"1\" class=\"dataframe\">\n",
       "  <thead>\n",
       "    <tr style=\"text-align: right;\">\n",
       "      <th></th>\n",
       "      <th>budget</th>\n",
       "      <th>genres</th>\n",
       "      <th>homepage</th>\n",
       "      <th>id</th>\n",
       "      <th>keywords</th>\n",
       "      <th>original_language</th>\n",
       "      <th>original_title</th>\n",
       "      <th>overview</th>\n",
       "      <th>popularity</th>\n",
       "      <th>production_companies</th>\n",
       "      <th>production_countries</th>\n",
       "      <th>release_date</th>\n",
       "      <th>revenue</th>\n",
       "      <th>runtime</th>\n",
       "      <th>spoken_languages</th>\n",
       "      <th>status</th>\n",
       "      <th>tagline</th>\n",
       "      <th>title</th>\n",
       "      <th>vote_average</th>\n",
       "      <th>vote_count</th>\n",
       "    </tr>\n",
       "  </thead>\n",
       "  <tbody>\n",
       "    <tr>\n",
       "      <th>0</th>\n",
       "      <td>237000000</td>\n",
       "      <td>[{\"id\": 28, \"name\": \"Action\"}, {\"id\": 12, \"nam...</td>\n",
       "      <td>http://www.avatarmovie.com/</td>\n",
       "      <td>19995</td>\n",
       "      <td>[{\"id\": 1463, \"name\": \"culture clash\"}, {\"id\":...</td>\n",
       "      <td>en</td>\n",
       "      <td>Avatar</td>\n",
       "      <td>In the 22nd century, a paraplegic Marine is di...</td>\n",
       "      <td>150.437577</td>\n",
       "      <td>[{\"name\": \"Ingenious Film Partners\", \"id\": 289...</td>\n",
       "      <td>[{\"iso_3166_1\": \"US\", \"name\": \"United States o...</td>\n",
       "      <td>2009-12-10</td>\n",
       "      <td>2787965087</td>\n",
       "      <td>162.0</td>\n",
       "      <td>[{\"iso_639_1\": \"en\", \"name\": \"English\"}, {\"iso...</td>\n",
       "      <td>Released</td>\n",
       "      <td>Enter the World of Pandora.</td>\n",
       "      <td>Avatar</td>\n",
       "      <td>7.2</td>\n",
       "      <td>11800</td>\n",
       "    </tr>\n",
       "    <tr>\n",
       "      <th>1</th>\n",
       "      <td>300000000</td>\n",
       "      <td>[{\"id\": 12, \"name\": \"Adventure\"}, {\"id\": 14, \"...</td>\n",
       "      <td>http://disney.go.com/disneypictures/pirates/</td>\n",
       "      <td>285</td>\n",
       "      <td>[{\"id\": 270, \"name\": \"ocean\"}, {\"id\": 726, \"na...</td>\n",
       "      <td>en</td>\n",
       "      <td>Pirates of the Caribbean: At World's End</td>\n",
       "      <td>Captain Barbossa, long believed to be dead, ha...</td>\n",
       "      <td>139.082615</td>\n",
       "      <td>[{\"name\": \"Walt Disney Pictures\", \"id\": 2}, {\"...</td>\n",
       "      <td>[{\"iso_3166_1\": \"US\", \"name\": \"United States o...</td>\n",
       "      <td>2007-05-19</td>\n",
       "      <td>961000000</td>\n",
       "      <td>169.0</td>\n",
       "      <td>[{\"iso_639_1\": \"en\", \"name\": \"English\"}]</td>\n",
       "      <td>Released</td>\n",
       "      <td>At the end of the world, the adventure begins.</td>\n",
       "      <td>Pirates of the Caribbean: At World's End</td>\n",
       "      <td>6.9</td>\n",
       "      <td>4500</td>\n",
       "    </tr>\n",
       "  </tbody>\n",
       "</table>\n",
       "</div>"
      ],
      "text/plain": [
       "      budget                                             genres  \\\n",
       "0  237000000  [{\"id\": 28, \"name\": \"Action\"}, {\"id\": 12, \"nam...   \n",
       "1  300000000  [{\"id\": 12, \"name\": \"Adventure\"}, {\"id\": 14, \"...   \n",
       "\n",
       "                                       homepage     id  \\\n",
       "0                   http://www.avatarmovie.com/  19995   \n",
       "1  http://disney.go.com/disneypictures/pirates/    285   \n",
       "\n",
       "                                            keywords original_language  \\\n",
       "0  [{\"id\": 1463, \"name\": \"culture clash\"}, {\"id\":...                en   \n",
       "1  [{\"id\": 270, \"name\": \"ocean\"}, {\"id\": 726, \"na...                en   \n",
       "\n",
       "                             original_title  \\\n",
       "0                                    Avatar   \n",
       "1  Pirates of the Caribbean: At World's End   \n",
       "\n",
       "                                            overview  popularity  \\\n",
       "0  In the 22nd century, a paraplegic Marine is di...  150.437577   \n",
       "1  Captain Barbossa, long believed to be dead, ha...  139.082615   \n",
       "\n",
       "                                production_companies  \\\n",
       "0  [{\"name\": \"Ingenious Film Partners\", \"id\": 289...   \n",
       "1  [{\"name\": \"Walt Disney Pictures\", \"id\": 2}, {\"...   \n",
       "\n",
       "                                production_countries release_date     revenue  \\\n",
       "0  [{\"iso_3166_1\": \"US\", \"name\": \"United States o...   2009-12-10  2787965087   \n",
       "1  [{\"iso_3166_1\": \"US\", \"name\": \"United States o...   2007-05-19   961000000   \n",
       "\n",
       "   runtime                                   spoken_languages    status  \\\n",
       "0    162.0  [{\"iso_639_1\": \"en\", \"name\": \"English\"}, {\"iso...  Released   \n",
       "1    169.0           [{\"iso_639_1\": \"en\", \"name\": \"English\"}]  Released   \n",
       "\n",
       "                                          tagline  \\\n",
       "0                     Enter the World of Pandora.   \n",
       "1  At the end of the world, the adventure begins.   \n",
       "\n",
       "                                      title  vote_average  vote_count  \n",
       "0                                    Avatar           7.2       11800  \n",
       "1  Pirates of the Caribbean: At World's End           6.9        4500  "
      ]
     },
     "execution_count": 3,
     "metadata": {},
     "output_type": "execute_result"
    }
   ],
   "source": [
    "movies.head(2)"
   ]
  },
  {
   "cell_type": "code",
   "execution_count": 4,
   "id": "1d762dc4-70c7-45c5-88e0-2c5214ed50ed",
   "metadata": {},
   "outputs": [
    {
     "data": {
      "text/html": [
       "<div>\n",
       "<style scoped>\n",
       "    .dataframe tbody tr th:only-of-type {\n",
       "        vertical-align: middle;\n",
       "    }\n",
       "\n",
       "    .dataframe tbody tr th {\n",
       "        vertical-align: top;\n",
       "    }\n",
       "\n",
       "    .dataframe thead th {\n",
       "        text-align: right;\n",
       "    }\n",
       "</style>\n",
       "<table border=\"1\" class=\"dataframe\">\n",
       "  <thead>\n",
       "    <tr style=\"text-align: right;\">\n",
       "      <th></th>\n",
       "      <th>movie_id</th>\n",
       "      <th>title</th>\n",
       "      <th>cast</th>\n",
       "      <th>crew</th>\n",
       "    </tr>\n",
       "  </thead>\n",
       "  <tbody>\n",
       "    <tr>\n",
       "      <th>0</th>\n",
       "      <td>19995</td>\n",
       "      <td>Avatar</td>\n",
       "      <td>[{\"cast_id\": 242, \"character\": \"Jake Sully\", \"...</td>\n",
       "      <td>[{\"credit_id\": \"52fe48009251416c750aca23\", \"de...</td>\n",
       "    </tr>\n",
       "    <tr>\n",
       "      <th>1</th>\n",
       "      <td>285</td>\n",
       "      <td>Pirates of the Caribbean: At World's End</td>\n",
       "      <td>[{\"cast_id\": 4, \"character\": \"Captain Jack Spa...</td>\n",
       "      <td>[{\"credit_id\": \"52fe4232c3a36847f800b579\", \"de...</td>\n",
       "    </tr>\n",
       "  </tbody>\n",
       "</table>\n",
       "</div>"
      ],
      "text/plain": [
       "   movie_id                                     title  \\\n",
       "0     19995                                    Avatar   \n",
       "1       285  Pirates of the Caribbean: At World's End   \n",
       "\n",
       "                                                cast  \\\n",
       "0  [{\"cast_id\": 242, \"character\": \"Jake Sully\", \"...   \n",
       "1  [{\"cast_id\": 4, \"character\": \"Captain Jack Spa...   \n",
       "\n",
       "                                                crew  \n",
       "0  [{\"credit_id\": \"52fe48009251416c750aca23\", \"de...  \n",
       "1  [{\"credit_id\": \"52fe4232c3a36847f800b579\", \"de...  "
      ]
     },
     "execution_count": 4,
     "metadata": {},
     "output_type": "execute_result"
    }
   ],
   "source": [
    "credits.head(2)"
   ]
  },
  {
   "cell_type": "code",
   "execution_count": 5,
   "id": "c9925089-371a-4f52-a3cc-761bb6126e2b",
   "metadata": {},
   "outputs": [
    {
     "data": {
      "text/plain": [
       "(4803, 20)"
      ]
     },
     "execution_count": 5,
     "metadata": {},
     "output_type": "execute_result"
    }
   ],
   "source": [
    "movies.shape"
   ]
  },
  {
   "cell_type": "code",
   "execution_count": 6,
   "id": "4569ea30-a9cf-4167-9531-5d1e9dc7674e",
   "metadata": {},
   "outputs": [
    {
     "data": {
      "text/plain": [
       "(4803, 4)"
      ]
     },
     "execution_count": 6,
     "metadata": {},
     "output_type": "execute_result"
    }
   ],
   "source": [
    "credits.shape"
   ]
  },
  {
   "cell_type": "code",
   "execution_count": 7,
   "id": "cbce906e-a5aa-4c1f-85e4-3e4616f91c5f",
   "metadata": {},
   "outputs": [],
   "source": [
    "credits.rename(columns={'movie_id':'id'},inplace = True)"
   ]
  },
  {
   "cell_type": "code",
   "execution_count": 8,
   "id": "b1f4e834-80ec-4ee0-8225-514834b3ffff",
   "metadata": {},
   "outputs": [
    {
     "data": {
      "text/html": [
       "<div>\n",
       "<style scoped>\n",
       "    .dataframe tbody tr th:only-of-type {\n",
       "        vertical-align: middle;\n",
       "    }\n",
       "\n",
       "    .dataframe tbody tr th {\n",
       "        vertical-align: top;\n",
       "    }\n",
       "\n",
       "    .dataframe thead th {\n",
       "        text-align: right;\n",
       "    }\n",
       "</style>\n",
       "<table border=\"1\" class=\"dataframe\">\n",
       "  <thead>\n",
       "    <tr style=\"text-align: right;\">\n",
       "      <th></th>\n",
       "      <th>id</th>\n",
       "      <th>title</th>\n",
       "      <th>cast</th>\n",
       "      <th>crew</th>\n",
       "    </tr>\n",
       "  </thead>\n",
       "  <tbody>\n",
       "    <tr>\n",
       "      <th>0</th>\n",
       "      <td>19995</td>\n",
       "      <td>Avatar</td>\n",
       "      <td>[{\"cast_id\": 242, \"character\": \"Jake Sully\", \"...</td>\n",
       "      <td>[{\"credit_id\": \"52fe48009251416c750aca23\", \"de...</td>\n",
       "    </tr>\n",
       "    <tr>\n",
       "      <th>1</th>\n",
       "      <td>285</td>\n",
       "      <td>Pirates of the Caribbean: At World's End</td>\n",
       "      <td>[{\"cast_id\": 4, \"character\": \"Captain Jack Spa...</td>\n",
       "      <td>[{\"credit_id\": \"52fe4232c3a36847f800b579\", \"de...</td>\n",
       "    </tr>\n",
       "  </tbody>\n",
       "</table>\n",
       "</div>"
      ],
      "text/plain": [
       "      id                                     title  \\\n",
       "0  19995                                    Avatar   \n",
       "1    285  Pirates of the Caribbean: At World's End   \n",
       "\n",
       "                                                cast  \\\n",
       "0  [{\"cast_id\": 242, \"character\": \"Jake Sully\", \"...   \n",
       "1  [{\"cast_id\": 4, \"character\": \"Captain Jack Spa...   \n",
       "\n",
       "                                                crew  \n",
       "0  [{\"credit_id\": \"52fe48009251416c750aca23\", \"de...  \n",
       "1  [{\"credit_id\": \"52fe4232c3a36847f800b579\", \"de...  "
      ]
     },
     "execution_count": 8,
     "metadata": {},
     "output_type": "execute_result"
    }
   ],
   "source": [
    "credits.head(2)"
   ]
  },
  {
   "cell_type": "code",
   "execution_count": 9,
   "id": "4d7e7bfc-8b44-4691-be34-a30cf25e306c",
   "metadata": {},
   "outputs": [],
   "source": [
    "movies = movies.merge(credits,on='id')"
   ]
  },
  {
   "cell_type": "code",
   "execution_count": 10,
   "id": "8f590738-25a9-4673-9613-8758501a0cca",
   "metadata": {},
   "outputs": [
    {
     "data": {
      "text/html": [
       "<div>\n",
       "<style scoped>\n",
       "    .dataframe tbody tr th:only-of-type {\n",
       "        vertical-align: middle;\n",
       "    }\n",
       "\n",
       "    .dataframe tbody tr th {\n",
       "        vertical-align: top;\n",
       "    }\n",
       "\n",
       "    .dataframe thead th {\n",
       "        text-align: right;\n",
       "    }\n",
       "</style>\n",
       "<table border=\"1\" class=\"dataframe\">\n",
       "  <thead>\n",
       "    <tr style=\"text-align: right;\">\n",
       "      <th></th>\n",
       "      <th>budget</th>\n",
       "      <th>genres</th>\n",
       "      <th>homepage</th>\n",
       "      <th>id</th>\n",
       "      <th>keywords</th>\n",
       "      <th>original_language</th>\n",
       "      <th>original_title</th>\n",
       "      <th>overview</th>\n",
       "      <th>popularity</th>\n",
       "      <th>production_companies</th>\n",
       "      <th>...</th>\n",
       "      <th>runtime</th>\n",
       "      <th>spoken_languages</th>\n",
       "      <th>status</th>\n",
       "      <th>tagline</th>\n",
       "      <th>title_x</th>\n",
       "      <th>vote_average</th>\n",
       "      <th>vote_count</th>\n",
       "      <th>title_y</th>\n",
       "      <th>cast</th>\n",
       "      <th>crew</th>\n",
       "    </tr>\n",
       "  </thead>\n",
       "  <tbody>\n",
       "    <tr>\n",
       "      <th>0</th>\n",
       "      <td>237000000</td>\n",
       "      <td>[{\"id\": 28, \"name\": \"Action\"}, {\"id\": 12, \"nam...</td>\n",
       "      <td>http://www.avatarmovie.com/</td>\n",
       "      <td>19995</td>\n",
       "      <td>[{\"id\": 1463, \"name\": \"culture clash\"}, {\"id\":...</td>\n",
       "      <td>en</td>\n",
       "      <td>Avatar</td>\n",
       "      <td>In the 22nd century, a paraplegic Marine is di...</td>\n",
       "      <td>150.437577</td>\n",
       "      <td>[{\"name\": \"Ingenious Film Partners\", \"id\": 289...</td>\n",
       "      <td>...</td>\n",
       "      <td>162.0</td>\n",
       "      <td>[{\"iso_639_1\": \"en\", \"name\": \"English\"}, {\"iso...</td>\n",
       "      <td>Released</td>\n",
       "      <td>Enter the World of Pandora.</td>\n",
       "      <td>Avatar</td>\n",
       "      <td>7.2</td>\n",
       "      <td>11800</td>\n",
       "      <td>Avatar</td>\n",
       "      <td>[{\"cast_id\": 242, \"character\": \"Jake Sully\", \"...</td>\n",
       "      <td>[{\"credit_id\": \"52fe48009251416c750aca23\", \"de...</td>\n",
       "    </tr>\n",
       "    <tr>\n",
       "      <th>1</th>\n",
       "      <td>300000000</td>\n",
       "      <td>[{\"id\": 12, \"name\": \"Adventure\"}, {\"id\": 14, \"...</td>\n",
       "      <td>http://disney.go.com/disneypictures/pirates/</td>\n",
       "      <td>285</td>\n",
       "      <td>[{\"id\": 270, \"name\": \"ocean\"}, {\"id\": 726, \"na...</td>\n",
       "      <td>en</td>\n",
       "      <td>Pirates of the Caribbean: At World's End</td>\n",
       "      <td>Captain Barbossa, long believed to be dead, ha...</td>\n",
       "      <td>139.082615</td>\n",
       "      <td>[{\"name\": \"Walt Disney Pictures\", \"id\": 2}, {\"...</td>\n",
       "      <td>...</td>\n",
       "      <td>169.0</td>\n",
       "      <td>[{\"iso_639_1\": \"en\", \"name\": \"English\"}]</td>\n",
       "      <td>Released</td>\n",
       "      <td>At the end of the world, the adventure begins.</td>\n",
       "      <td>Pirates of the Caribbean: At World's End</td>\n",
       "      <td>6.9</td>\n",
       "      <td>4500</td>\n",
       "      <td>Pirates of the Caribbean: At World's End</td>\n",
       "      <td>[{\"cast_id\": 4, \"character\": \"Captain Jack Spa...</td>\n",
       "      <td>[{\"credit_id\": \"52fe4232c3a36847f800b579\", \"de...</td>\n",
       "    </tr>\n",
       "  </tbody>\n",
       "</table>\n",
       "<p>2 rows × 23 columns</p>\n",
       "</div>"
      ],
      "text/plain": [
       "      budget                                             genres  \\\n",
       "0  237000000  [{\"id\": 28, \"name\": \"Action\"}, {\"id\": 12, \"nam...   \n",
       "1  300000000  [{\"id\": 12, \"name\": \"Adventure\"}, {\"id\": 14, \"...   \n",
       "\n",
       "                                       homepage     id  \\\n",
       "0                   http://www.avatarmovie.com/  19995   \n",
       "1  http://disney.go.com/disneypictures/pirates/    285   \n",
       "\n",
       "                                            keywords original_language  \\\n",
       "0  [{\"id\": 1463, \"name\": \"culture clash\"}, {\"id\":...                en   \n",
       "1  [{\"id\": 270, \"name\": \"ocean\"}, {\"id\": 726, \"na...                en   \n",
       "\n",
       "                             original_title  \\\n",
       "0                                    Avatar   \n",
       "1  Pirates of the Caribbean: At World's End   \n",
       "\n",
       "                                            overview  popularity  \\\n",
       "0  In the 22nd century, a paraplegic Marine is di...  150.437577   \n",
       "1  Captain Barbossa, long believed to be dead, ha...  139.082615   \n",
       "\n",
       "                                production_companies  ... runtime  \\\n",
       "0  [{\"name\": \"Ingenious Film Partners\", \"id\": 289...  ...   162.0   \n",
       "1  [{\"name\": \"Walt Disney Pictures\", \"id\": 2}, {\"...  ...   169.0   \n",
       "\n",
       "                                    spoken_languages    status  \\\n",
       "0  [{\"iso_639_1\": \"en\", \"name\": \"English\"}, {\"iso...  Released   \n",
       "1           [{\"iso_639_1\": \"en\", \"name\": \"English\"}]  Released   \n",
       "\n",
       "                                          tagline  \\\n",
       "0                     Enter the World of Pandora.   \n",
       "1  At the end of the world, the adventure begins.   \n",
       "\n",
       "                                    title_x vote_average vote_count  \\\n",
       "0                                    Avatar          7.2      11800   \n",
       "1  Pirates of the Caribbean: At World's End          6.9       4500   \n",
       "\n",
       "                                    title_y  \\\n",
       "0                                    Avatar   \n",
       "1  Pirates of the Caribbean: At World's End   \n",
       "\n",
       "                                                cast  \\\n",
       "0  [{\"cast_id\": 242, \"character\": \"Jake Sully\", \"...   \n",
       "1  [{\"cast_id\": 4, \"character\": \"Captain Jack Spa...   \n",
       "\n",
       "                                                crew  \n",
       "0  [{\"credit_id\": \"52fe48009251416c750aca23\", \"de...  \n",
       "1  [{\"credit_id\": \"52fe4232c3a36847f800b579\", \"de...  \n",
       "\n",
       "[2 rows x 23 columns]"
      ]
     },
     "execution_count": 10,
     "metadata": {},
     "output_type": "execute_result"
    }
   ],
   "source": [
    "movies.head(2)"
   ]
  },
  {
   "cell_type": "code",
   "execution_count": 11,
   "id": "962b01ee-978f-4e20-889a-127884246e73",
   "metadata": {},
   "outputs": [
    {
     "name": "stdout",
     "output_type": "stream",
     "text": [
      "<class 'pandas.core.frame.DataFrame'>\n",
      "Int64Index: 4803 entries, 0 to 4802\n",
      "Data columns (total 23 columns):\n",
      " #   Column                Non-Null Count  Dtype  \n",
      "---  ------                --------------  -----  \n",
      " 0   budget                4803 non-null   int64  \n",
      " 1   genres                4803 non-null   object \n",
      " 2   homepage              1712 non-null   object \n",
      " 3   id                    4803 non-null   int64  \n",
      " 4   keywords              4803 non-null   object \n",
      " 5   original_language     4803 non-null   object \n",
      " 6   original_title        4803 non-null   object \n",
      " 7   overview              4800 non-null   object \n",
      " 8   popularity            4803 non-null   float64\n",
      " 9   production_companies  4803 non-null   object \n",
      " 10  production_countries  4803 non-null   object \n",
      " 11  release_date          4802 non-null   object \n",
      " 12  revenue               4803 non-null   int64  \n",
      " 13  runtime               4801 non-null   float64\n",
      " 14  spoken_languages      4803 non-null   object \n",
      " 15  status                4803 non-null   object \n",
      " 16  tagline               3959 non-null   object \n",
      " 17  title_x               4803 non-null   object \n",
      " 18  vote_average          4803 non-null   float64\n",
      " 19  vote_count            4803 non-null   int64  \n",
      " 20  title_y               4803 non-null   object \n",
      " 21  cast                  4803 non-null   object \n",
      " 22  crew                  4803 non-null   object \n",
      "dtypes: float64(3), int64(4), object(16)\n",
      "memory usage: 900.6+ KB\n"
     ]
    }
   ],
   "source": [
    "movies.info()"
   ]
  },
  {
   "cell_type": "code",
   "execution_count": 12,
   "id": "4f74cba9-07e8-4882-9658-4f9e5fc6a2bd",
   "metadata": {},
   "outputs": [],
   "source": [
    "movies = movies[['id','title_y','overview','genres','keywords','cast','crew']]"
   ]
  },
  {
   "cell_type": "code",
   "execution_count": 13,
   "id": "713d33ff-3baf-4f4c-b0e3-d55b2ecb9999",
   "metadata": {},
   "outputs": [],
   "source": [
    "movies.rename(columns={'title_y':'title'},inplace = True)"
   ]
  },
  {
   "cell_type": "code",
   "execution_count": 14,
   "id": "e179d090-d480-418e-94cf-83d2f55b8f2a",
   "metadata": {},
   "outputs": [
    {
     "data": {
      "text/html": [
       "<div>\n",
       "<style scoped>\n",
       "    .dataframe tbody tr th:only-of-type {\n",
       "        vertical-align: middle;\n",
       "    }\n",
       "\n",
       "    .dataframe tbody tr th {\n",
       "        vertical-align: top;\n",
       "    }\n",
       "\n",
       "    .dataframe thead th {\n",
       "        text-align: right;\n",
       "    }\n",
       "</style>\n",
       "<table border=\"1\" class=\"dataframe\">\n",
       "  <thead>\n",
       "    <tr style=\"text-align: right;\">\n",
       "      <th></th>\n",
       "      <th>id</th>\n",
       "      <th>title</th>\n",
       "      <th>overview</th>\n",
       "      <th>genres</th>\n",
       "      <th>keywords</th>\n",
       "      <th>cast</th>\n",
       "      <th>crew</th>\n",
       "    </tr>\n",
       "  </thead>\n",
       "  <tbody>\n",
       "    <tr>\n",
       "      <th>0</th>\n",
       "      <td>19995</td>\n",
       "      <td>Avatar</td>\n",
       "      <td>In the 22nd century, a paraplegic Marine is di...</td>\n",
       "      <td>[{\"id\": 28, \"name\": \"Action\"}, {\"id\": 12, \"nam...</td>\n",
       "      <td>[{\"id\": 1463, \"name\": \"culture clash\"}, {\"id\":...</td>\n",
       "      <td>[{\"cast_id\": 242, \"character\": \"Jake Sully\", \"...</td>\n",
       "      <td>[{\"credit_id\": \"52fe48009251416c750aca23\", \"de...</td>\n",
       "    </tr>\n",
       "    <tr>\n",
       "      <th>1</th>\n",
       "      <td>285</td>\n",
       "      <td>Pirates of the Caribbean: At World's End</td>\n",
       "      <td>Captain Barbossa, long believed to be dead, ha...</td>\n",
       "      <td>[{\"id\": 12, \"name\": \"Adventure\"}, {\"id\": 14, \"...</td>\n",
       "      <td>[{\"id\": 270, \"name\": \"ocean\"}, {\"id\": 726, \"na...</td>\n",
       "      <td>[{\"cast_id\": 4, \"character\": \"Captain Jack Spa...</td>\n",
       "      <td>[{\"credit_id\": \"52fe4232c3a36847f800b579\", \"de...</td>\n",
       "    </tr>\n",
       "    <tr>\n",
       "      <th>2</th>\n",
       "      <td>206647</td>\n",
       "      <td>Spectre</td>\n",
       "      <td>A cryptic message from Bond’s past sends him o...</td>\n",
       "      <td>[{\"id\": 28, \"name\": \"Action\"}, {\"id\": 12, \"nam...</td>\n",
       "      <td>[{\"id\": 470, \"name\": \"spy\"}, {\"id\": 818, \"name...</td>\n",
       "      <td>[{\"cast_id\": 1, \"character\": \"James Bond\", \"cr...</td>\n",
       "      <td>[{\"credit_id\": \"54805967c3a36829b5002c41\", \"de...</td>\n",
       "    </tr>\n",
       "    <tr>\n",
       "      <th>3</th>\n",
       "      <td>49026</td>\n",
       "      <td>The Dark Knight Rises</td>\n",
       "      <td>Following the death of District Attorney Harve...</td>\n",
       "      <td>[{\"id\": 28, \"name\": \"Action\"}, {\"id\": 80, \"nam...</td>\n",
       "      <td>[{\"id\": 849, \"name\": \"dc comics\"}, {\"id\": 853,...</td>\n",
       "      <td>[{\"cast_id\": 2, \"character\": \"Bruce Wayne / Ba...</td>\n",
       "      <td>[{\"credit_id\": \"52fe4781c3a36847f81398c3\", \"de...</td>\n",
       "    </tr>\n",
       "    <tr>\n",
       "      <th>4</th>\n",
       "      <td>49529</td>\n",
       "      <td>John Carter</td>\n",
       "      <td>John Carter is a war-weary, former military ca...</td>\n",
       "      <td>[{\"id\": 28, \"name\": \"Action\"}, {\"id\": 12, \"nam...</td>\n",
       "      <td>[{\"id\": 818, \"name\": \"based on novel\"}, {\"id\":...</td>\n",
       "      <td>[{\"cast_id\": 5, \"character\": \"John Carter\", \"c...</td>\n",
       "      <td>[{\"credit_id\": \"52fe479ac3a36847f813eaa3\", \"de...</td>\n",
       "    </tr>\n",
       "  </tbody>\n",
       "</table>\n",
       "</div>"
      ],
      "text/plain": [
       "       id                                     title  \\\n",
       "0   19995                                    Avatar   \n",
       "1     285  Pirates of the Caribbean: At World's End   \n",
       "2  206647                                   Spectre   \n",
       "3   49026                     The Dark Knight Rises   \n",
       "4   49529                               John Carter   \n",
       "\n",
       "                                            overview  \\\n",
       "0  In the 22nd century, a paraplegic Marine is di...   \n",
       "1  Captain Barbossa, long believed to be dead, ha...   \n",
       "2  A cryptic message from Bond’s past sends him o...   \n",
       "3  Following the death of District Attorney Harve...   \n",
       "4  John Carter is a war-weary, former military ca...   \n",
       "\n",
       "                                              genres  \\\n",
       "0  [{\"id\": 28, \"name\": \"Action\"}, {\"id\": 12, \"nam...   \n",
       "1  [{\"id\": 12, \"name\": \"Adventure\"}, {\"id\": 14, \"...   \n",
       "2  [{\"id\": 28, \"name\": \"Action\"}, {\"id\": 12, \"nam...   \n",
       "3  [{\"id\": 28, \"name\": \"Action\"}, {\"id\": 80, \"nam...   \n",
       "4  [{\"id\": 28, \"name\": \"Action\"}, {\"id\": 12, \"nam...   \n",
       "\n",
       "                                            keywords  \\\n",
       "0  [{\"id\": 1463, \"name\": \"culture clash\"}, {\"id\":...   \n",
       "1  [{\"id\": 270, \"name\": \"ocean\"}, {\"id\": 726, \"na...   \n",
       "2  [{\"id\": 470, \"name\": \"spy\"}, {\"id\": 818, \"name...   \n",
       "3  [{\"id\": 849, \"name\": \"dc comics\"}, {\"id\": 853,...   \n",
       "4  [{\"id\": 818, \"name\": \"based on novel\"}, {\"id\":...   \n",
       "\n",
       "                                                cast  \\\n",
       "0  [{\"cast_id\": 242, \"character\": \"Jake Sully\", \"...   \n",
       "1  [{\"cast_id\": 4, \"character\": \"Captain Jack Spa...   \n",
       "2  [{\"cast_id\": 1, \"character\": \"James Bond\", \"cr...   \n",
       "3  [{\"cast_id\": 2, \"character\": \"Bruce Wayne / Ba...   \n",
       "4  [{\"cast_id\": 5, \"character\": \"John Carter\", \"c...   \n",
       "\n",
       "                                                crew  \n",
       "0  [{\"credit_id\": \"52fe48009251416c750aca23\", \"de...  \n",
       "1  [{\"credit_id\": \"52fe4232c3a36847f800b579\", \"de...  \n",
       "2  [{\"credit_id\": \"54805967c3a36829b5002c41\", \"de...  \n",
       "3  [{\"credit_id\": \"52fe4781c3a36847f81398c3\", \"de...  \n",
       "4  [{\"credit_id\": \"52fe479ac3a36847f813eaa3\", \"de...  "
      ]
     },
     "execution_count": 14,
     "metadata": {},
     "output_type": "execute_result"
    }
   ],
   "source": [
    "movies.head()"
   ]
  },
  {
   "cell_type": "code",
   "execution_count": 19,
   "id": "d5b8e2ec-687e-4cbc-b28b-005b3f206793",
   "metadata": {},
   "outputs": [
    {
     "data": {
      "text/plain": [
       "id          0\n",
       "title       0\n",
       "overview    0\n",
       "genres      0\n",
       "keywords    0\n",
       "cast        0\n",
       "crew        0\n",
       "dtype: int64"
      ]
     },
     "execution_count": 19,
     "metadata": {},
     "output_type": "execute_result"
    }
   ],
   "source": [
    "movies.isnull().sum()"
   ]
  },
  {
   "cell_type": "code",
   "execution_count": 16,
   "id": "ea667655-b3e1-4f3f-974c-8f9d4f8c5370",
   "metadata": {},
   "outputs": [],
   "source": [
    "movies.dropna(inplace = True)"
   ]
  },
  {
   "cell_type": "code",
   "execution_count": 17,
   "id": "f1ab64b6-d1bc-4caa-8ced-0b1fe2817015",
   "metadata": {},
   "outputs": [
    {
     "data": {
      "text/plain": [
       "0"
      ]
     },
     "execution_count": 17,
     "metadata": {},
     "output_type": "execute_result"
    }
   ],
   "source": [
    "movies.duplicated().sum()"
   ]
  },
  {
   "cell_type": "code",
   "execution_count": 20,
   "id": "a9774968-41d2-49b0-9193-58e9f3bd676a",
   "metadata": {},
   "outputs": [
    {
     "data": {
      "text/plain": [
       "'[{\"id\": 28, \"name\": \"Action\"}, {\"id\": 12, \"name\": \"Adventure\"}, {\"id\": 14, \"name\": \"Fantasy\"}, {\"id\": 878, \"name\": \"Science Fiction\"}]'"
      ]
     },
     "execution_count": 20,
     "metadata": {},
     "output_type": "execute_result"
    }
   ],
   "source": [
    "movies.iloc[0].genres"
   ]
  },
  {
   "cell_type": "code",
   "execution_count": 21,
   "id": "5ca1de3f-6c8a-48e3-8f6d-13a21abf626d",
   "metadata": {},
   "outputs": [
    {
     "data": {
      "text/plain": [
       "[{'id': 28, 'name': 'Action'},\n",
       " {'id': 12, 'name': 'Adventure'},\n",
       " {'id': 14, 'name': 'Fantasy'},\n",
       " {'id': 878, 'name': 'Science Fiction'}]"
      ]
     },
     "execution_count": 21,
     "metadata": {},
     "output_type": "execute_result"
    }
   ],
   "source": [
    "import ast\n",
    "ast.literal_eval('[{\"id\": 28, \"name\": \"Action\"}, {\"id\": 12, \"name\": \"Adventure\"}, {\"id\": 14, \"name\": \"Fantasy\"}, {\"id\": 878, \"name\": \"Science Fiction\"}]')"
   ]
  },
  {
   "cell_type": "code",
   "execution_count": 22,
   "id": "c5e34307-8ae3-4b04-b610-3bea4d377eef",
   "metadata": {},
   "outputs": [],
   "source": [
    "def convert(obj):\n",
    "    L = []\n",
    "    for i in ast.literal_eval(obj):\n",
    "            L.append(i['name'])\n",
    "    return L"
   ]
  },
  {
   "cell_type": "code",
   "execution_count": 23,
   "id": "63b32c2c-a6b8-4130-996f-333b25bdd341",
   "metadata": {},
   "outputs": [],
   "source": [
    "movies['genres'] = movies['genres'].apply(convert)"
   ]
  },
  {
   "cell_type": "code",
   "execution_count": 24,
   "id": "b71bdbf2-fdbb-4e2e-97f9-1dc67a93675d",
   "metadata": {},
   "outputs": [],
   "source": [
    "movies['keywords'] = movies['keywords'].apply(convert)"
   ]
  },
  {
   "cell_type": "code",
   "execution_count": 25,
   "id": "f9ef5f04-e751-4602-ae04-63653bdeaee9",
   "metadata": {},
   "outputs": [
    {
     "data": {
      "text/html": [
       "<div>\n",
       "<style scoped>\n",
       "    .dataframe tbody tr th:only-of-type {\n",
       "        vertical-align: middle;\n",
       "    }\n",
       "\n",
       "    .dataframe tbody tr th {\n",
       "        vertical-align: top;\n",
       "    }\n",
       "\n",
       "    .dataframe thead th {\n",
       "        text-align: right;\n",
       "    }\n",
       "</style>\n",
       "<table border=\"1\" class=\"dataframe\">\n",
       "  <thead>\n",
       "    <tr style=\"text-align: right;\">\n",
       "      <th></th>\n",
       "      <th>id</th>\n",
       "      <th>title</th>\n",
       "      <th>overview</th>\n",
       "      <th>genres</th>\n",
       "      <th>keywords</th>\n",
       "      <th>cast</th>\n",
       "      <th>crew</th>\n",
       "    </tr>\n",
       "  </thead>\n",
       "  <tbody>\n",
       "    <tr>\n",
       "      <th>3429</th>\n",
       "      <td>1591</td>\n",
       "      <td>Nowhere in Africa</td>\n",
       "      <td>A Jewish woman named Jettel Redlich flees Nazi...</td>\n",
       "      <td>[Drama]</td>\n",
       "      <td>[loss of family, emigration, world war ii, jew...</td>\n",
       "      <td>[{\"cast_id\": 17, \"character\": \"Jettel Redlich\"...</td>\n",
       "      <td>[{\"credit_id\": \"52fe4302c3a36847f803392f\", \"de...</td>\n",
       "    </tr>\n",
       "    <tr>\n",
       "      <th>2951</th>\n",
       "      <td>86829</td>\n",
       "      <td>Inside Llewyn Davis</td>\n",
       "      <td>In Greenwich Village in the early 1960s, gifte...</td>\n",
       "      <td>[Drama, Music]</td>\n",
       "      <td>[folk music, performance, aspiring singer, new...</td>\n",
       "      <td>[{\"cast_id\": 10, \"character\": \"Llewyn Davis\", ...</td>\n",
       "      <td>[{\"credit_id\": \"52fe49a39251416c910b3b77\", \"de...</td>\n",
       "    </tr>\n",
       "    <tr>\n",
       "      <th>1127</th>\n",
       "      <td>11560</td>\n",
       "      <td>High Crimes</td>\n",
       "      <td>High powered lawyer Claire Kubik finds her wor...</td>\n",
       "      <td>[Drama, Mystery, Thriller, Crime]</td>\n",
       "      <td>[based on novel, witness, village, court, love...</td>\n",
       "      <td>[{\"cast_id\": 1, \"character\": \"Claire Chapman\",...</td>\n",
       "      <td>[{\"credit_id\": \"597aa90cc3a368374c004c53\", \"de...</td>\n",
       "    </tr>\n",
       "    <tr>\n",
       "      <th>2001</th>\n",
       "      <td>19150</td>\n",
       "      <td>The Crew</td>\n",
       "      <td>Four retired mobsters plan one last crime to s...</td>\n",
       "      <td>[Action, Comedy]</td>\n",
       "      <td>[]</td>\n",
       "      <td>[{\"cast_id\": 1, \"character\": \"Bobby Bartelleme...</td>\n",
       "      <td>[{\"credit_id\": \"52fe47bf9251416c750a41d5\", \"de...</td>\n",
       "    </tr>\n",
       "    <tr>\n",
       "      <th>410</th>\n",
       "      <td>62764</td>\n",
       "      <td>Mirror Mirror</td>\n",
       "      <td>After she spends all her money, an evil enchan...</td>\n",
       "      <td>[Adventure, Fantasy, Drama, Comedy, Science Fi...</td>\n",
       "      <td>[attempted murder, fairy tale, black magic, co...</td>\n",
       "      <td>[{\"cast_id\": 5, \"character\": \"Evil Queen\", \"cr...</td>\n",
       "      <td>[{\"credit_id\": \"52fe468dc3a368484e096f15\", \"de...</td>\n",
       "    </tr>\n",
       "  </tbody>\n",
       "</table>\n",
       "</div>"
      ],
      "text/plain": [
       "         id                title  \\\n",
       "3429   1591    Nowhere in Africa   \n",
       "2951  86829  Inside Llewyn Davis   \n",
       "1127  11560          High Crimes   \n",
       "2001  19150             The Crew   \n",
       "410   62764        Mirror Mirror   \n",
       "\n",
       "                                               overview  \\\n",
       "3429  A Jewish woman named Jettel Redlich flees Nazi...   \n",
       "2951  In Greenwich Village in the early 1960s, gifte...   \n",
       "1127  High powered lawyer Claire Kubik finds her wor...   \n",
       "2001  Four retired mobsters plan one last crime to s...   \n",
       "410   After she spends all her money, an evil enchan...   \n",
       "\n",
       "                                                 genres  \\\n",
       "3429                                            [Drama]   \n",
       "2951                                     [Drama, Music]   \n",
       "1127                  [Drama, Mystery, Thriller, Crime]   \n",
       "2001                                   [Action, Comedy]   \n",
       "410   [Adventure, Fantasy, Drama, Comedy, Science Fi...   \n",
       "\n",
       "                                               keywords  \\\n",
       "3429  [loss of family, emigration, world war ii, jew...   \n",
       "2951  [folk music, performance, aspiring singer, new...   \n",
       "1127  [based on novel, witness, village, court, love...   \n",
       "2001                                                 []   \n",
       "410   [attempted murder, fairy tale, black magic, co...   \n",
       "\n",
       "                                                   cast  \\\n",
       "3429  [{\"cast_id\": 17, \"character\": \"Jettel Redlich\"...   \n",
       "2951  [{\"cast_id\": 10, \"character\": \"Llewyn Davis\", ...   \n",
       "1127  [{\"cast_id\": 1, \"character\": \"Claire Chapman\",...   \n",
       "2001  [{\"cast_id\": 1, \"character\": \"Bobby Bartelleme...   \n",
       "410   [{\"cast_id\": 5, \"character\": \"Evil Queen\", \"cr...   \n",
       "\n",
       "                                                   crew  \n",
       "3429  [{\"credit_id\": \"52fe4302c3a36847f803392f\", \"de...  \n",
       "2951  [{\"credit_id\": \"52fe49a39251416c910b3b77\", \"de...  \n",
       "1127  [{\"credit_id\": \"597aa90cc3a368374c004c53\", \"de...  \n",
       "2001  [{\"credit_id\": \"52fe47bf9251416c750a41d5\", \"de...  \n",
       "410   [{\"credit_id\": \"52fe468dc3a368484e096f15\", \"de...  "
      ]
     },
     "execution_count": 25,
     "metadata": {},
     "output_type": "execute_result"
    }
   ],
   "source": [
    "movies.sample(5)"
   ]
  },
  {
   "cell_type": "code",
   "execution_count": 26,
   "id": "0f530d9a-9075-4c47-8580-243d80a03b1e",
   "metadata": {},
   "outputs": [],
   "source": [
    "def convert3(obj):\n",
    "    L = []\n",
    "    counter = 0\n",
    "    for i in ast.literal_eval(obj):\n",
    "        if counter != 3:\n",
    "            L.append(i['name'])\n",
    "            counter+=1\n",
    "        else:\n",
    "            break\n",
    "    return L "
   ]
  },
  {
   "cell_type": "code",
   "execution_count": 27,
   "id": "20760853-b5a0-4b2d-8a20-f39837f92945",
   "metadata": {},
   "outputs": [],
   "source": [
    "movies['cast']=movies['cast'].apply(convert3)"
   ]
  },
  {
   "cell_type": "code",
   "execution_count": 28,
   "id": "301a43a6-ca15-425f-8a7d-56037d1bca7b",
   "metadata": {},
   "outputs": [],
   "source": [
    "def fetch_director(obj):\n",
    "    L = []\n",
    "    for i in ast.literal_eval(obj):\n",
    "        if i['job'] == 'Director':\n",
    "            L.append(i['name'])\n",
    "            break\n",
    "    return L"
   ]
  },
  {
   "cell_type": "code",
   "execution_count": 29,
   "id": "25700486-04a0-4e11-9e1f-71302ba11283",
   "metadata": {},
   "outputs": [],
   "source": [
    "movies['crew']=movies['crew'].apply(fetch_director)"
   ]
  },
  {
   "cell_type": "code",
   "execution_count": 30,
   "id": "d9476926-6828-49c7-9155-8cdf83937ef7",
   "metadata": {},
   "outputs": [],
   "source": [
    "movies['overview'] = movies['overview'].apply(lambda x:x.split())"
   ]
  },
  {
   "cell_type": "code",
   "execution_count": 31,
   "id": "df2c6d6e-94b0-4124-9456-7a8e3bd00579",
   "metadata": {},
   "outputs": [],
   "source": [
    "movies['crew']=movies['crew'].apply(lambda x:[i.replace(\" \",\" \") for i in x])"
   ]
  },
  {
   "cell_type": "code",
   "execution_count": 32,
   "id": "8c492070-c094-45c3-abf6-7c8b275c3b65",
   "metadata": {},
   "outputs": [],
   "source": [
    "movies['cast']=movies['cast'].apply(lambda x:[i.replace(\" \",\" \") for i in x])"
   ]
  },
  {
   "cell_type": "code",
   "execution_count": 33,
   "id": "63094a67-243d-48b4-b185-a4adfa414927",
   "metadata": {},
   "outputs": [],
   "source": [
    "movies['genres']=movies['genres'].apply(lambda x:[i.replace(\" \",\" \") for i in x])"
   ]
  },
  {
   "cell_type": "code",
   "execution_count": 34,
   "id": "800cef96-3d3a-44b8-8fba-30ca1fe9e42f",
   "metadata": {},
   "outputs": [],
   "source": [
    "movies['keywords']=movies['keywords'].apply(lambda x:[i.replace(\" \",\" \") for i in x])"
   ]
  },
  {
   "cell_type": "code",
   "execution_count": 35,
   "id": "3c21c223-f2fb-4b84-aa61-25156098f3ca",
   "metadata": {},
   "outputs": [],
   "source": [
    "movies['tags'] = movies['overview'] + movies['genres'] + movies['keywords'] + movies['cast'] + movies['crew']"
   ]
  },
  {
   "cell_type": "code",
   "execution_count": 36,
   "id": "56977a35-9d05-4874-abab-8978b98620eb",
   "metadata": {},
   "outputs": [
    {
     "data": {
      "text/html": [
       "<div>\n",
       "<style scoped>\n",
       "    .dataframe tbody tr th:only-of-type {\n",
       "        vertical-align: middle;\n",
       "    }\n",
       "\n",
       "    .dataframe tbody tr th {\n",
       "        vertical-align: top;\n",
       "    }\n",
       "\n",
       "    .dataframe thead th {\n",
       "        text-align: right;\n",
       "    }\n",
       "</style>\n",
       "<table border=\"1\" class=\"dataframe\">\n",
       "  <thead>\n",
       "    <tr style=\"text-align: right;\">\n",
       "      <th></th>\n",
       "      <th>id</th>\n",
       "      <th>title</th>\n",
       "      <th>overview</th>\n",
       "      <th>genres</th>\n",
       "      <th>keywords</th>\n",
       "      <th>cast</th>\n",
       "      <th>crew</th>\n",
       "      <th>tags</th>\n",
       "    </tr>\n",
       "  </thead>\n",
       "  <tbody>\n",
       "    <tr>\n",
       "      <th>3386</th>\n",
       "      <td>11687</td>\n",
       "      <td>The Visitors</td>\n",
       "      <td>[This, outrageous, time-travel, comedy, follow...</td>\n",
       "      <td>[Fantasy, Comedy, Science Fiction]</td>\n",
       "      <td>[servant, time travel, clumsy fellow, middle a...</td>\n",
       "      <td>[Jean Reno, Valérie Lemercier, Christian Clavier]</td>\n",
       "      <td>[Jean-Marie Poiré]</td>\n",
       "      <td>[This, outrageous, time-travel, comedy, follow...</td>\n",
       "    </tr>\n",
       "    <tr>\n",
       "      <th>113</th>\n",
       "      <td>675</td>\n",
       "      <td>Harry Potter and the Order of the Phoenix</td>\n",
       "      <td>[Returning, for, his, fifth, year, of, study, ...</td>\n",
       "      <td>[Adventure, Fantasy, Family, Mystery]</td>\n",
       "      <td>[prophecy, witch, loss of lover, magic, cuttin...</td>\n",
       "      <td>[Daniel Radcliffe, Rupert Grint, Emma Watson]</td>\n",
       "      <td>[David Yates]</td>\n",
       "      <td>[Returning, for, his, fifth, year, of, study, ...</td>\n",
       "    </tr>\n",
       "    <tr>\n",
       "      <th>4368</th>\n",
       "      <td>9707</td>\n",
       "      <td>Bubba Ho-tep</td>\n",
       "      <td>[Bubba, Ho-tep, tells, the, \"true\", story, of,...</td>\n",
       "      <td>[Comedy, Horror, Thriller, Mystery, Fantasy]</td>\n",
       "      <td>[john f. kennedy, elvis presley]</td>\n",
       "      <td>[Bruce Campbell, Ossie Davis, Ella Joyce]</td>\n",
       "      <td>[Don Coscarelli]</td>\n",
       "      <td>[Bubba, Ho-tep, tells, the, \"true\", story, of,...</td>\n",
       "    </tr>\n",
       "    <tr>\n",
       "      <th>2859</th>\n",
       "      <td>3635</td>\n",
       "      <td>Girl with a Pearl Earring</td>\n",
       "      <td>[This, film,, adapted, from, a, work, of, fict...</td>\n",
       "      <td>[Drama, Romance]</td>\n",
       "      <td>[painter, biography, painting, maid]</td>\n",
       "      <td>[Scarlett Johansson, Colin Firth, Cillian Murphy]</td>\n",
       "      <td>[Peter Webber]</td>\n",
       "      <td>[This, film,, adapted, from, a, work, of, fict...</td>\n",
       "    </tr>\n",
       "    <tr>\n",
       "      <th>4689</th>\n",
       "      <td>37985</td>\n",
       "      <td>The Trials Of Darryl Hunt</td>\n",
       "      <td>[\"The, Trials, of, Darryl, Hunt\", is, a, featu...</td>\n",
       "      <td>[Documentary]</td>\n",
       "      <td>[woman director]</td>\n",
       "      <td>[]</td>\n",
       "      <td>[Ricki Stern]</td>\n",
       "      <td>[\"The, Trials, of, Darryl, Hunt\", is, a, featu...</td>\n",
       "    </tr>\n",
       "  </tbody>\n",
       "</table>\n",
       "</div>"
      ],
      "text/plain": [
       "         id                                      title  \\\n",
       "3386  11687                               The Visitors   \n",
       "113     675  Harry Potter and the Order of the Phoenix   \n",
       "4368   9707                               Bubba Ho-tep   \n",
       "2859   3635                  Girl with a Pearl Earring   \n",
       "4689  37985                  The Trials Of Darryl Hunt   \n",
       "\n",
       "                                               overview  \\\n",
       "3386  [This, outrageous, time-travel, comedy, follow...   \n",
       "113   [Returning, for, his, fifth, year, of, study, ...   \n",
       "4368  [Bubba, Ho-tep, tells, the, \"true\", story, of,...   \n",
       "2859  [This, film,, adapted, from, a, work, of, fict...   \n",
       "4689  [\"The, Trials, of, Darryl, Hunt\", is, a, featu...   \n",
       "\n",
       "                                            genres  \\\n",
       "3386            [Fantasy, Comedy, Science Fiction]   \n",
       "113          [Adventure, Fantasy, Family, Mystery]   \n",
       "4368  [Comedy, Horror, Thriller, Mystery, Fantasy]   \n",
       "2859                              [Drama, Romance]   \n",
       "4689                                 [Documentary]   \n",
       "\n",
       "                                               keywords  \\\n",
       "3386  [servant, time travel, clumsy fellow, middle a...   \n",
       "113   [prophecy, witch, loss of lover, magic, cuttin...   \n",
       "4368                   [john f. kennedy, elvis presley]   \n",
       "2859               [painter, biography, painting, maid]   \n",
       "4689                                   [woman director]   \n",
       "\n",
       "                                                   cast                crew  \\\n",
       "3386  [Jean Reno, Valérie Lemercier, Christian Clavier]  [Jean-Marie Poiré]   \n",
       "113       [Daniel Radcliffe, Rupert Grint, Emma Watson]       [David Yates]   \n",
       "4368          [Bruce Campbell, Ossie Davis, Ella Joyce]    [Don Coscarelli]   \n",
       "2859  [Scarlett Johansson, Colin Firth, Cillian Murphy]      [Peter Webber]   \n",
       "4689                                                 []       [Ricki Stern]   \n",
       "\n",
       "                                                   tags  \n",
       "3386  [This, outrageous, time-travel, comedy, follow...  \n",
       "113   [Returning, for, his, fifth, year, of, study, ...  \n",
       "4368  [Bubba, Ho-tep, tells, the, \"true\", story, of,...  \n",
       "2859  [This, film,, adapted, from, a, work, of, fict...  \n",
       "4689  [\"The, Trials, of, Darryl, Hunt\", is, a, featu...  "
      ]
     },
     "execution_count": 36,
     "metadata": {},
     "output_type": "execute_result"
    }
   ],
   "source": [
    "movies.sample(5)"
   ]
  },
  {
   "cell_type": "code",
   "execution_count": 37,
   "id": "722f6cc1-05fc-4235-a05f-e5ee910503a9",
   "metadata": {},
   "outputs": [],
   "source": [
    "df = movies[['id', 'title', 'tags']]"
   ]
  },
  {
   "cell_type": "code",
   "execution_count": 38,
   "id": "68459263-a651-46b5-b446-9ffe842294cd",
   "metadata": {},
   "outputs": [
    {
     "data": {
      "text/html": [
       "<div>\n",
       "<style scoped>\n",
       "    .dataframe tbody tr th:only-of-type {\n",
       "        vertical-align: middle;\n",
       "    }\n",
       "\n",
       "    .dataframe tbody tr th {\n",
       "        vertical-align: top;\n",
       "    }\n",
       "\n",
       "    .dataframe thead th {\n",
       "        text-align: right;\n",
       "    }\n",
       "</style>\n",
       "<table border=\"1\" class=\"dataframe\">\n",
       "  <thead>\n",
       "    <tr style=\"text-align: right;\">\n",
       "      <th></th>\n",
       "      <th>id</th>\n",
       "      <th>title</th>\n",
       "      <th>tags</th>\n",
       "    </tr>\n",
       "  </thead>\n",
       "  <tbody>\n",
       "    <tr>\n",
       "      <th>3205</th>\n",
       "      <td>43418</td>\n",
       "      <td>Beneath Hill 60</td>\n",
       "      <td>[The, true, story, of, Australia's, cat-and-mo...</td>\n",
       "    </tr>\n",
       "    <tr>\n",
       "      <th>4741</th>\n",
       "      <td>360188</td>\n",
       "      <td>Queen Crab</td>\n",
       "      <td>[A, meteor, crashes, into, a, quiet, lake, in,...</td>\n",
       "    </tr>\n",
       "    <tr>\n",
       "      <th>3125</th>\n",
       "      <td>16358</td>\n",
       "      <td>Eulogy</td>\n",
       "      <td>[A, black, comedy, that, follows, three, gener...</td>\n",
       "    </tr>\n",
       "    <tr>\n",
       "      <th>4366</th>\n",
       "      <td>13508</td>\n",
       "      <td>Who Killed the Electric Car?</td>\n",
       "      <td>[In, 1996,, electric, cars, began, to, appear,...</td>\n",
       "    </tr>\n",
       "    <tr>\n",
       "      <th>1228</th>\n",
       "      <td>8457</td>\n",
       "      <td>Drillbit Taylor</td>\n",
       "      <td>[Three, kids, hire, a, low-budget, bodyguard, ...</td>\n",
       "    </tr>\n",
       "  </tbody>\n",
       "</table>\n",
       "</div>"
      ],
      "text/plain": [
       "          id                         title  \\\n",
       "3205   43418               Beneath Hill 60   \n",
       "4741  360188                    Queen Crab   \n",
       "3125   16358                        Eulogy   \n",
       "4366   13508  Who Killed the Electric Car?   \n",
       "1228    8457               Drillbit Taylor   \n",
       "\n",
       "                                                   tags  \n",
       "3205  [The, true, story, of, Australia's, cat-and-mo...  \n",
       "4741  [A, meteor, crashes, into, a, quiet, lake, in,...  \n",
       "3125  [A, black, comedy, that, follows, three, gener...  \n",
       "4366  [In, 1996,, electric, cars, began, to, appear,...  \n",
       "1228  [Three, kids, hire, a, low-budget, bodyguard, ...  "
      ]
     },
     "execution_count": 38,
     "metadata": {},
     "output_type": "execute_result"
    }
   ],
   "source": [
    "df.sample(5)"
   ]
  },
  {
   "cell_type": "code",
   "execution_count": 39,
   "id": "a2f5616a-faf7-46e3-ada0-2e7f07e7aca3",
   "metadata": {},
   "outputs": [
    {
     "name": "stderr",
     "output_type": "stream",
     "text": [
      "<ipython-input-39-d905a23bdc75>:1: SettingWithCopyWarning: \n",
      "A value is trying to be set on a copy of a slice from a DataFrame.\n",
      "Try using .loc[row_indexer,col_indexer] = value instead\n",
      "\n",
      "See the caveats in the documentation: https://pandas.pydata.org/pandas-docs/stable/user_guide/indexing.html#returning-a-view-versus-a-copy\n",
      "  df['tags'] = df['tags'].apply(lambda x:\" \".join(x))\n"
     ]
    }
   ],
   "source": [
    "df['tags'] = df['tags'].apply(lambda x:\" \".join(x))"
   ]
  },
  {
   "cell_type": "code",
   "execution_count": 40,
   "id": "815d61ab-bd41-4bf1-8524-41eeb9d1a6fc",
   "metadata": {},
   "outputs": [
    {
     "data": {
      "text/html": [
       "<div>\n",
       "<style scoped>\n",
       "    .dataframe tbody tr th:only-of-type {\n",
       "        vertical-align: middle;\n",
       "    }\n",
       "\n",
       "    .dataframe tbody tr th {\n",
       "        vertical-align: top;\n",
       "    }\n",
       "\n",
       "    .dataframe thead th {\n",
       "        text-align: right;\n",
       "    }\n",
       "</style>\n",
       "<table border=\"1\" class=\"dataframe\">\n",
       "  <thead>\n",
       "    <tr style=\"text-align: right;\">\n",
       "      <th></th>\n",
       "      <th>id</th>\n",
       "      <th>title</th>\n",
       "      <th>tags</th>\n",
       "    </tr>\n",
       "  </thead>\n",
       "  <tbody>\n",
       "    <tr>\n",
       "      <th>0</th>\n",
       "      <td>19995</td>\n",
       "      <td>Avatar</td>\n",
       "      <td>In the 22nd century, a paraplegic Marine is di...</td>\n",
       "    </tr>\n",
       "    <tr>\n",
       "      <th>1</th>\n",
       "      <td>285</td>\n",
       "      <td>Pirates of the Caribbean: At World's End</td>\n",
       "      <td>Captain Barbossa, long believed to be dead, ha...</td>\n",
       "    </tr>\n",
       "    <tr>\n",
       "      <th>2</th>\n",
       "      <td>206647</td>\n",
       "      <td>Spectre</td>\n",
       "      <td>A cryptic message from Bond’s past sends him o...</td>\n",
       "    </tr>\n",
       "    <tr>\n",
       "      <th>3</th>\n",
       "      <td>49026</td>\n",
       "      <td>The Dark Knight Rises</td>\n",
       "      <td>Following the death of District Attorney Harve...</td>\n",
       "    </tr>\n",
       "    <tr>\n",
       "      <th>4</th>\n",
       "      <td>49529</td>\n",
       "      <td>John Carter</td>\n",
       "      <td>John Carter is a war-weary, former military ca...</td>\n",
       "    </tr>\n",
       "  </tbody>\n",
       "</table>\n",
       "</div>"
      ],
      "text/plain": [
       "       id                                     title  \\\n",
       "0   19995                                    Avatar   \n",
       "1     285  Pirates of the Caribbean: At World's End   \n",
       "2  206647                                   Spectre   \n",
       "3   49026                     The Dark Knight Rises   \n",
       "4   49529                               John Carter   \n",
       "\n",
       "                                                tags  \n",
       "0  In the 22nd century, a paraplegic Marine is di...  \n",
       "1  Captain Barbossa, long believed to be dead, ha...  \n",
       "2  A cryptic message from Bond’s past sends him o...  \n",
       "3  Following the death of District Attorney Harve...  \n",
       "4  John Carter is a war-weary, former military ca...  "
      ]
     },
     "execution_count": 40,
     "metadata": {},
     "output_type": "execute_result"
    }
   ],
   "source": [
    "df.head()"
   ]
  },
  {
   "cell_type": "code",
   "execution_count": 41,
   "id": "9ad5ae8a-be46-47d9-b542-b237428f523f",
   "metadata": {},
   "outputs": [
    {
     "name": "stderr",
     "output_type": "stream",
     "text": [
      "<ipython-input-41-f0a9af75070b>:1: SettingWithCopyWarning: \n",
      "A value is trying to be set on a copy of a slice from a DataFrame.\n",
      "Try using .loc[row_indexer,col_indexer] = value instead\n",
      "\n",
      "See the caveats in the documentation: https://pandas.pydata.org/pandas-docs/stable/user_guide/indexing.html#returning-a-view-versus-a-copy\n",
      "  df['tags'] = df['tags'].apply(lambda x:x.lower())\n"
     ]
    }
   ],
   "source": [
    "df['tags'] = df['tags'].apply(lambda x:x.lower())"
   ]
  },
  {
   "cell_type": "code",
   "execution_count": 43,
   "id": "1751cffe-8eea-4b50-8c41-4579cc72ac35",
   "metadata": {},
   "outputs": [],
   "source": [
    "from sklearn.feature_extraction.text import CountVectorizer\n",
    "cv = CountVectorizer(max_features=5000,stop_words='english')"
   ]
  },
  {
   "cell_type": "code",
   "execution_count": 47,
   "id": "c64fefde-3fe5-4b95-8e5d-c76aaef9726b",
   "metadata": {},
   "outputs": [
    {
     "data": {
      "text/plain": [
       "(4800, 5000)"
      ]
     },
     "execution_count": 47,
     "metadata": {},
     "output_type": "execute_result"
    }
   ],
   "source": [
    "cv.fit_transform(df['tags']).toarray().shape"
   ]
  },
  {
   "cell_type": "code",
   "execution_count": 48,
   "id": "b345c08a-5d7d-4711-b0a5-8ba30db9cb75",
   "metadata": {},
   "outputs": [],
   "source": [
    "vct = cv.fit_transform(df['tags']).toarray()"
   ]
  },
  {
   "cell_type": "code",
   "execution_count": 52,
   "id": "a590b32f-59bc-44a3-bc53-b5841116620b",
   "metadata": {},
   "outputs": [
    {
     "data": {
      "text/plain": [
       "array([0, 0, 0, ..., 0, 0, 0], dtype=int64)"
      ]
     },
     "execution_count": 52,
     "metadata": {},
     "output_type": "execute_result"
    }
   ],
   "source": [
    "vct[9]"
   ]
  },
  {
   "cell_type": "code",
   "execution_count": 55,
   "id": "6f1f80ad-9377-40ba-960a-0f80f1e8528d",
   "metadata": {},
   "outputs": [],
   "source": [
    "import nltk"
   ]
  },
  {
   "cell_type": "code",
   "execution_count": 56,
   "id": "b0fdcd6c-7791-46b6-b37d-a8c9459c1635",
   "metadata": {},
   "outputs": [],
   "source": [
    "from nltk.stem.porter import PorterStemmer\n",
    "ps = PorterStemmer()"
   ]
  },
  {
   "cell_type": "code",
   "execution_count": 65,
   "id": "40ff5282-26ac-4fb6-b523-0da2c62d1650",
   "metadata": {},
   "outputs": [],
   "source": [
    "def stem(text):\n",
    "    y = []\n",
    "    \n",
    "    for i in text.split():\n",
    "        y.append(ps.stem(i))\n",
    "    return \" \".join(y)"
   ]
  },
  {
   "cell_type": "code",
   "execution_count": 71,
   "id": "a24b0256-86f7-43b4-9b18-a243eb4c5d07",
   "metadata": {},
   "outputs": [
    {
     "data": {
      "text/plain": [
       "'miser ebenezer scrooge is awakened on christmas eve by spirits who reveal to him his own miserable existence, what opportunities he wasted in his youth, his current cruelties, and the dire fate that awaits him if he does not change his ways. scrooge is faced with his own story of growing bitterness and meanness, and must decide what his own future will hold: death or redemption. animation drama holiday based on novel victorian england money christmas eve scrooge christmas carol ghost lesson charles dickens christmas gary oldman jim carrey steve valentine robert zemeckis'"
      ]
     },
     "execution_count": 71,
     "metadata": {},
     "output_type": "execute_result"
    }
   ],
   "source": [
    "df['tags'][60]"
   ]
  },
  {
   "cell_type": "code",
   "execution_count": 72,
   "id": "927a52de-f8d3-49be-a66c-dbfbdf735741",
   "metadata": {},
   "outputs": [
    {
     "data": {
      "text/plain": [
       "'miser ebenez scroog is awaken on christma eve by spirit who reveal to him hi own miser existence, what opportun he wast in hi youth, hi current cruelties, and the dire fate that await him if he doe not chang hi ways. scroog is face with hi own stori of grow bitter and meanness, and must decid what hi own futur will hold: death or redemption. anim drama holiday base on novel victorian england money christma eve scroog christma carol ghost lesson charl dicken christma gari oldman jim carrey steve valentin robert zemecki'"
      ]
     },
     "execution_count": 72,
     "metadata": {},
     "output_type": "execute_result"
    }
   ],
   "source": [
    "stem('miser ebenezer scrooge is awakened on christmas eve by spirits who reveal to him his own miserable existence, what opportunities he wasted in his youth, his current cruelties, and the dire fate that awaits him if he does not change his ways. scrooge is faced with his own story of growing bitterness and meanness, and must decide what his own future will hold: death or redemption. animation drama holiday based on novel victorian england money christmas eve scrooge christmas carol ghost lesson charles dickens christmas gary oldman jim carrey steve valentine robert zemeckis')"
   ]
  },
  {
   "cell_type": "code",
   "execution_count": 75,
   "id": "ff70aea0-fd94-4050-b9b9-3c3a983f596b",
   "metadata": {},
   "outputs": [
    {
     "name": "stderr",
     "output_type": "stream",
     "text": [
      "<ipython-input-75-9c043b76a2e3>:1: SettingWithCopyWarning: \n",
      "A value is trying to be set on a copy of a slice from a DataFrame.\n",
      "Try using .loc[row_indexer,col_indexer] = value instead\n",
      "\n",
      "See the caveats in the documentation: https://pandas.pydata.org/pandas-docs/stable/user_guide/indexing.html#returning-a-view-versus-a-copy\n",
      "  df['tags'] = df['tags'].apply(stem)\n"
     ]
    }
   ],
   "source": [
    "df['tags'] = df['tags'].apply(stem)"
   ]
  },
  {
   "cell_type": "code",
   "execution_count": 77,
   "id": "d9c2c611-c3da-4941-813c-8e66e958b108",
   "metadata": {},
   "outputs": [],
   "source": [
    "from sklearn.metrics.pairwise import cosine_similarity"
   ]
  },
  {
   "cell_type": "code",
   "execution_count": 79,
   "id": "3e452d6d-0899-48d0-8515-d41598c1d323",
   "metadata": {},
   "outputs": [
    {
     "data": {
      "text/plain": [
       "array([[1.        , 0.06839856, 0.04916051, ..., 0.03121953, 0.05309942,\n",
       "        0.        ],\n",
       "       [0.06839856, 1.        , 0.04259177, ..., 0.04057204, 0.        ,\n",
       "        0.        ],\n",
       "       [0.04916051, 0.04259177, 1.        , ..., 0.01944039, 0.08817334,\n",
       "        0.        ],\n",
       "       ...,\n",
       "       [0.03121953, 0.04057204, 0.01944039, ..., 1.        , 0.06299408,\n",
       "        0.03253   ],\n",
       "       [0.05309942, 0.        , 0.08817334, ..., 0.06299408, 1.        ,\n",
       "        0.03688556],\n",
       "       [0.        , 0.        , 0.        , ..., 0.03253   , 0.03688556,\n",
       "        1.        ]])"
      ]
     },
     "execution_count": 79,
     "metadata": {},
     "output_type": "execute_result"
    }
   ],
   "source": [
    "cosine_similarity(vct)"
   ]
  },
  {
   "cell_type": "code",
   "execution_count": 80,
   "id": "be245ba3-541b-4cf2-a3c3-d4c492d50a1a",
   "metadata": {},
   "outputs": [
    {
     "data": {
      "text/plain": [
       "(4800, 4800)"
      ]
     },
     "execution_count": 80,
     "metadata": {},
     "output_type": "execute_result"
    }
   ],
   "source": [
    "cosine_similarity(vct).shape"
   ]
  },
  {
   "cell_type": "code",
   "execution_count": 104,
   "id": "77c9757a-86a0-4f1a-a4f3-37ed09b5ace8",
   "metadata": {},
   "outputs": [],
   "source": [
    "sim_matrix = cosine_similarity(vct)"
   ]
  },
  {
   "cell_type": "code",
   "execution_count": 105,
   "id": "df993ac0-cdc0-410a-9bef-097f2f08fb92",
   "metadata": {},
   "outputs": [],
   "source": [
    "def recom(movie):\n",
    "    index = df[df['title'] == movie].index[0]\n",
    "    distances = sim_matrix[index]\n",
    "    movie_list = sorted(list(enumerate(distances)),reverse=True,key = lambda x:x[1])[1:6]\n",
    "    for i in movie_list:\n",
    "        print(df.iloc[i[0]].title)"
   ]
  },
  {
   "cell_type": "code",
   "execution_count": 106,
   "id": "f2c074ce-44df-412a-9dc8-33dfd8ea8edc",
   "metadata": {},
   "outputs": [
    {
     "name": "stdout",
     "output_type": "stream",
     "text": [
      "Batman & Robin\n",
      "Batman Returns\n",
      "Batman Begins\n",
      "The Dark Knight Rises\n",
      "The Dark Knight\n"
     ]
    }
   ],
   "source": [
    "recom('Batman')"
   ]
  },
  {
   "cell_type": "code",
   "execution_count": 107,
   "id": "251098d0-a793-4140-a557-4c26ab4505a6",
   "metadata": {},
   "outputs": [
    {
     "data": {
      "text/html": [
       "<div>\n",
       "<style scoped>\n",
       "    .dataframe tbody tr th:only-of-type {\n",
       "        vertical-align: middle;\n",
       "    }\n",
       "\n",
       "    .dataframe tbody tr th {\n",
       "        vertical-align: top;\n",
       "    }\n",
       "\n",
       "    .dataframe thead th {\n",
       "        text-align: right;\n",
       "    }\n",
       "</style>\n",
       "<table border=\"1\" class=\"dataframe\">\n",
       "  <thead>\n",
       "    <tr style=\"text-align: right;\">\n",
       "      <th></th>\n",
       "      <th>id</th>\n",
       "      <th>title</th>\n",
       "      <th>tags</th>\n",
       "    </tr>\n",
       "  </thead>\n",
       "  <tbody>\n",
       "    <tr>\n",
       "      <th>1002</th>\n",
       "      <td>10796</td>\n",
       "      <td>The One</td>\n",
       "      <td>a sheriff' deputi fight an altern univers vers...</td>\n",
       "    </tr>\n",
       "    <tr>\n",
       "      <th>4236</th>\n",
       "      <td>66025</td>\n",
       "      <td>Mooz-lum</td>\n",
       "      <td>thank to a strict muslim upbring that larg shi...</td>\n",
       "    </tr>\n",
       "    <tr>\n",
       "      <th>3333</th>\n",
       "      <td>29064</td>\n",
       "      <td>The Omega Code</td>\n",
       "      <td>in thi spiritu thriller, an ancient propheci i...</td>\n",
       "    </tr>\n",
       "    <tr>\n",
       "      <th>4471</th>\n",
       "      <td>74510</td>\n",
       "      <td>Kevin Hart: Laugh at My Pain</td>\n",
       "      <td>experi the show that quickli becam a nation ph...</td>\n",
       "    </tr>\n",
       "    <tr>\n",
       "      <th>1392</th>\n",
       "      <td>9957</td>\n",
       "      <td>The Benchwarmers</td>\n",
       "      <td>a trio of guy tri and make up for miss opportu...</td>\n",
       "    </tr>\n",
       "    <tr>\n",
       "      <th>419</th>\n",
       "      <td>8247</td>\n",
       "      <td>Jumper</td>\n",
       "      <td>david rice is a man who know no boundaries, a ...</td>\n",
       "    </tr>\n",
       "    <tr>\n",
       "      <th>4305</th>\n",
       "      <td>114065</td>\n",
       "      <td>Down &amp; Out With The Dolls</td>\n",
       "      <td>the raunchy, spunki tale of the rise and fall ...</td>\n",
       "    </tr>\n",
       "    <tr>\n",
       "      <th>2943</th>\n",
       "      <td>11184</td>\n",
       "      <td>Kinsey</td>\n",
       "      <td>kinsey is a portrait of research alfr kinsey, ...</td>\n",
       "    </tr>\n",
       "    <tr>\n",
       "      <th>3267</th>\n",
       "      <td>23570</td>\n",
       "      <td>The Pallbearer</td>\n",
       "      <td>aspir architect tom thompson is told by myster...</td>\n",
       "    </tr>\n",
       "    <tr>\n",
       "      <th>858</th>\n",
       "      <td>145220</td>\n",
       "      <td>Muppets Most Wanted</td>\n",
       "      <td>while on a grand world tour, the muppet find t...</td>\n",
       "    </tr>\n",
       "    <tr>\n",
       "      <th>2837</th>\n",
       "      <td>101267</td>\n",
       "      <td>Katy Perry: Part of Me</td>\n",
       "      <td>give fan unpreced access to the real life of t...</td>\n",
       "    </tr>\n",
       "    <tr>\n",
       "      <th>4624</th>\n",
       "      <td>250184</td>\n",
       "      <td>Locker 13</td>\n",
       "      <td>the stori of skip, a young ex-convict who take...</td>\n",
       "    </tr>\n",
       "    <tr>\n",
       "      <th>1481</th>\n",
       "      <td>202575</td>\n",
       "      <td>Thunder and the House of Magic</td>\n",
       "      <td>thunder, an abandon young cat seek shelter fro...</td>\n",
       "    </tr>\n",
       "    <tr>\n",
       "      <th>4565</th>\n",
       "      <td>4107</td>\n",
       "      <td>Bloody Sunday</td>\n",
       "      <td>the dramatis stori of the irish civil right pr...</td>\n",
       "    </tr>\n",
       "    <tr>\n",
       "      <th>3119</th>\n",
       "      <td>39055</td>\n",
       "      <td>Free Style</td>\n",
       "      <td>cale bryant is determin to win a covet spot on...</td>\n",
       "    </tr>\n",
       "    <tr>\n",
       "      <th>2163</th>\n",
       "      <td>9954</td>\n",
       "      <td>The Covenant</td>\n",
       "      <td>four young men who belong to a supernatur lega...</td>\n",
       "    </tr>\n",
       "    <tr>\n",
       "      <th>4530</th>\n",
       "      <td>96238</td>\n",
       "      <td>Never Again</td>\n",
       "      <td>two peopl who have pledg never to fall in love...</td>\n",
       "    </tr>\n",
       "    <tr>\n",
       "      <th>2148</th>\n",
       "      <td>243</td>\n",
       "      <td>High Fidelity</td>\n",
       "      <td>when record store owner rob gordon get dump by...</td>\n",
       "    </tr>\n",
       "    <tr>\n",
       "      <th>4031</th>\n",
       "      <td>1698</td>\n",
       "      <td>Anatomy</td>\n",
       "      <td>medic student paula hen win a place at an excl...</td>\n",
       "    </tr>\n",
       "    <tr>\n",
       "      <th>2919</th>\n",
       "      <td>10377</td>\n",
       "      <td>My Cousin Vinny</td>\n",
       "      <td>two carefre pal travel through alabama are mis...</td>\n",
       "    </tr>\n",
       "    <tr>\n",
       "      <th>2387</th>\n",
       "      <td>8408</td>\n",
       "      <td>Day of the Dead</td>\n",
       "      <td>the final chapter of georg a. romero' \"dead tr...</td>\n",
       "    </tr>\n",
       "    <tr>\n",
       "      <th>1739</th>\n",
       "      <td>13092</td>\n",
       "      <td>How to Lose Friends &amp; Alienate People</td>\n",
       "      <td>a british writer struggl to fit in at a high-p...</td>\n",
       "    </tr>\n",
       "    <tr>\n",
       "      <th>2859</th>\n",
       "      <td>3635</td>\n",
       "      <td>Girl with a Pearl Earring</td>\n",
       "      <td>thi film, adapt from a work of fiction by auth...</td>\n",
       "    </tr>\n",
       "    <tr>\n",
       "      <th>1199</th>\n",
       "      <td>1579</td>\n",
       "      <td>Apocalypto</td>\n",
       "      <td>set in the mayan civilization, when a man' idy...</td>\n",
       "    </tr>\n",
       "    <tr>\n",
       "      <th>1271</th>\n",
       "      <td>19898</td>\n",
       "      <td>Pandorum</td>\n",
       "      <td>two crew member wake up on an abandon spacecra...</td>\n",
       "    </tr>\n",
       "    <tr>\n",
       "      <th>3724</th>\n",
       "      <td>270938</td>\n",
       "      <td>Falcon Rising</td>\n",
       "      <td>chapman is an ex-marin in brazil' slums, battl...</td>\n",
       "    </tr>\n",
       "    <tr>\n",
       "      <th>2025</th>\n",
       "      <td>228194</td>\n",
       "      <td>The Hundred-Foot Journey</td>\n",
       "      <td>a stori center around an indian famili who mov...</td>\n",
       "    </tr>\n",
       "    <tr>\n",
       "      <th>431</th>\n",
       "      <td>9986</td>\n",
       "      <td>Charlotte's Web</td>\n",
       "      <td>wilbur the pig is scare of the end of the seas...</td>\n",
       "    </tr>\n",
       "    <tr>\n",
       "      <th>833</th>\n",
       "      <td>8584</td>\n",
       "      <td>Shanghai Noon</td>\n",
       "      <td>chon wang, a clumsi imperi guard trail princes...</td>\n",
       "    </tr>\n",
       "    <tr>\n",
       "      <th>3763</th>\n",
       "      <td>1809</td>\n",
       "      <td>The Rules of Attraction</td>\n",
       "      <td>the incred spoil and overprivileg student of c...</td>\n",
       "    </tr>\n",
       "    <tr>\n",
       "      <th>4563</th>\n",
       "      <td>15239</td>\n",
       "      <td>The Toxic Avenger</td>\n",
       "      <td>tromavil ha a monstrou new hero. the toxic ave...</td>\n",
       "    </tr>\n",
       "    <tr>\n",
       "      <th>4201</th>\n",
       "      <td>11426</td>\n",
       "      <td>From Here to Eternity</td>\n",
       "      <td>in 1941 hawaii, a privat is cruelli punish for...</td>\n",
       "    </tr>\n",
       "    <tr>\n",
       "      <th>4647</th>\n",
       "      <td>109729</td>\n",
       "      <td>The Canyons</td>\n",
       "      <td>the discoveri of an illicit love affair lead t...</td>\n",
       "    </tr>\n",
       "    <tr>\n",
       "      <th>195</th>\n",
       "      <td>181533</td>\n",
       "      <td>Night at the Museum: Secret of the Tomb</td>\n",
       "      <td>when the magic power of the tablet of ahkmenra...</td>\n",
       "    </tr>\n",
       "  </tbody>\n",
       "</table>\n",
       "</div>"
      ],
      "text/plain": [
       "          id                                    title  \\\n",
       "1002   10796                                  The One   \n",
       "4236   66025                                 Mooz-lum   \n",
       "3333   29064                           The Omega Code   \n",
       "4471   74510             Kevin Hart: Laugh at My Pain   \n",
       "1392    9957                         The Benchwarmers   \n",
       "419     8247                                   Jumper   \n",
       "4305  114065                Down & Out With The Dolls   \n",
       "2943   11184                                   Kinsey   \n",
       "3267   23570                           The Pallbearer   \n",
       "858   145220                      Muppets Most Wanted   \n",
       "2837  101267                   Katy Perry: Part of Me   \n",
       "4624  250184                                Locker 13   \n",
       "1481  202575           Thunder and the House of Magic   \n",
       "4565    4107                            Bloody Sunday   \n",
       "3119   39055                               Free Style   \n",
       "2163    9954                             The Covenant   \n",
       "4530   96238                              Never Again   \n",
       "2148     243                            High Fidelity   \n",
       "4031    1698                                  Anatomy   \n",
       "2919   10377                          My Cousin Vinny   \n",
       "2387    8408                          Day of the Dead   \n",
       "1739   13092    How to Lose Friends & Alienate People   \n",
       "2859    3635                Girl with a Pearl Earring   \n",
       "1199    1579                               Apocalypto   \n",
       "1271   19898                                 Pandorum   \n",
       "3724  270938                            Falcon Rising   \n",
       "2025  228194                 The Hundred-Foot Journey   \n",
       "431     9986                          Charlotte's Web   \n",
       "833     8584                            Shanghai Noon   \n",
       "3763    1809                  The Rules of Attraction   \n",
       "4563   15239                        The Toxic Avenger   \n",
       "4201   11426                    From Here to Eternity   \n",
       "4647  109729                              The Canyons   \n",
       "195   181533  Night at the Museum: Secret of the Tomb   \n",
       "\n",
       "                                                   tags  \n",
       "1002  a sheriff' deputi fight an altern univers vers...  \n",
       "4236  thank to a strict muslim upbring that larg shi...  \n",
       "3333  in thi spiritu thriller, an ancient propheci i...  \n",
       "4471  experi the show that quickli becam a nation ph...  \n",
       "1392  a trio of guy tri and make up for miss opportu...  \n",
       "419   david rice is a man who know no boundaries, a ...  \n",
       "4305  the raunchy, spunki tale of the rise and fall ...  \n",
       "2943  kinsey is a portrait of research alfr kinsey, ...  \n",
       "3267  aspir architect tom thompson is told by myster...  \n",
       "858   while on a grand world tour, the muppet find t...  \n",
       "2837  give fan unpreced access to the real life of t...  \n",
       "4624  the stori of skip, a young ex-convict who take...  \n",
       "1481  thunder, an abandon young cat seek shelter fro...  \n",
       "4565  the dramatis stori of the irish civil right pr...  \n",
       "3119  cale bryant is determin to win a covet spot on...  \n",
       "2163  four young men who belong to a supernatur lega...  \n",
       "4530  two peopl who have pledg never to fall in love...  \n",
       "2148  when record store owner rob gordon get dump by...  \n",
       "4031  medic student paula hen win a place at an excl...  \n",
       "2919  two carefre pal travel through alabama are mis...  \n",
       "2387  the final chapter of georg a. romero' \"dead tr...  \n",
       "1739  a british writer struggl to fit in at a high-p...  \n",
       "2859  thi film, adapt from a work of fiction by auth...  \n",
       "1199  set in the mayan civilization, when a man' idy...  \n",
       "1271  two crew member wake up on an abandon spacecra...  \n",
       "3724  chapman is an ex-marin in brazil' slums, battl...  \n",
       "2025  a stori center around an indian famili who mov...  \n",
       "431   wilbur the pig is scare of the end of the seas...  \n",
       "833   chon wang, a clumsi imperi guard trail princes...  \n",
       "3763  the incred spoil and overprivileg student of c...  \n",
       "4563  tromavil ha a monstrou new hero. the toxic ave...  \n",
       "4201  in 1941 hawaii, a privat is cruelli punish for...  \n",
       "4647  the discoveri of an illicit love affair lead t...  \n",
       "195   when the magic power of the tablet of ahkmenra...  "
      ]
     },
     "execution_count": 107,
     "metadata": {},
     "output_type": "execute_result"
    }
   ],
   "source": [
    "df.sample(34)"
   ]
  },
  {
   "cell_type": "code",
   "execution_count": 108,
   "id": "d87c8481-ac99-4353-9960-fecbb679bfcb",
   "metadata": {},
   "outputs": [],
   "source": [
    "import pickle"
   ]
  },
  {
   "cell_type": "code",
   "execution_count": 109,
   "id": "f2138703-300f-46c9-a4e6-4cc0f7e8c1d9",
   "metadata": {},
   "outputs": [],
   "source": [
    "pickle.dump(df,open('movie_list.pkl','wb'))\n",
    "pickle.dump(sim_matrix,open('similarity.pkl','wb'))"
   ]
  },
  {
   "cell_type": "code",
   "execution_count": 110,
   "id": "cdb5946d-dca1-4577-83ca-c14de819b373",
   "metadata": {},
   "outputs": [
    {
     "data": {
      "text/plain": [
       "array(['Avatar', \"Pirates of the Caribbean: At World's End\", 'Spectre',\n",
       "       ..., 'Signed, Sealed, Delivered', 'Shanghai Calling',\n",
       "       'My Date with Drew'], dtype=object)"
      ]
     },
     "execution_count": 110,
     "metadata": {},
     "output_type": "execute_result"
    }
   ],
   "source": [
    "df['title'].values"
   ]
  },
  {
   "cell_type": "code",
   "execution_count": 111,
   "id": "f382bf9a-37ab-4464-887c-da3f9d9b53b8",
   "metadata": {},
   "outputs": [],
   "source": [
    "pickle.dump(df.to_dict(),open('movie_dict.pkl','wb'))"
   ]
  },
  {
   "cell_type": "code",
   "execution_count": null,
   "id": "f0558167-83e3-4dde-80c7-f8f2645af95e",
   "metadata": {},
   "outputs": [],
   "source": []
  }
 ],
 "metadata": {
  "kernelspec": {
   "display_name": "Python 3",
   "language": "python",
   "name": "python3"
  },
  "language_info": {
   "codemirror_mode": {
    "name": "ipython",
    "version": 3
   },
   "file_extension": ".py",
   "mimetype": "text/x-python",
   "name": "python",
   "nbconvert_exporter": "python",
   "pygments_lexer": "ipython3",
   "version": "3.8.8"
  }
 },
 "nbformat": 4,
 "nbformat_minor": 5
}
